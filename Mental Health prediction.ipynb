{
 "cells": [
  {
   "cell_type": "code",
   "execution_count": 4,
   "id": "acbd463c-0a3f-4773-837a-e82154a3fc6f",
   "metadata": {},
   "outputs": [],
   "source": [
    "import pandas as pd\n",
    "import numpy as np\n",
    "import matplotlib.pyplot as plt\n",
    "import seaborn as sns\n"
   ]
  },
  {
   "cell_type": "code",
   "execution_count": 5,
   "id": "a94916af-4ff1-4760-b44a-a11b2e850394",
   "metadata": {},
   "outputs": [],
   "source": [
    "df = pd.read_csv('C:/Users/styli/downloads/Mental Health prediction/Mental Health Data.csv')"
   ]
  },
  {
   "cell_type": "code",
   "execution_count": 6,
   "id": "e7efe508-61a9-4d77-9ab2-2941ce97ca57",
   "metadata": {},
   "outputs": [
    {
     "name": "stdout",
     "output_type": "stream",
     "text": [
      "Number of remaining records: 1433\n"
     ]
    }
   ],
   "source": [
    "# Remove duplicates\n",
    "df.drop_duplicates(inplace=True)\n",
    "print(\"Number of remaining records:\", df.shape[0])"
   ]
  },
  {
   "cell_type": "code",
   "execution_count": 43,
   "id": "8ed3f886-e4b2-4716-b967-e68f5d3f940c",
   "metadata": {},
   "outputs": [
    {
     "data": {
      "text/html": [
       "<div>\n",
       "<style scoped>\n",
       "    .dataframe tbody tr th:only-of-type {\n",
       "        vertical-align: middle;\n",
       "    }\n",
       "\n",
       "    .dataframe tbody tr th {\n",
       "        vertical-align: top;\n",
       "    }\n",
       "\n",
       "    .dataframe thead th {\n",
       "        text-align: right;\n",
       "    }\n",
       "</style>\n",
       "<table border=\"1\" class=\"dataframe\">\n",
       "  <thead>\n",
       "    <tr style=\"text-align: right;\">\n",
       "      <th></th>\n",
       "      <th>self_employed</th>\n",
       "      <th>no_of_employees</th>\n",
       "      <th>tech_company</th>\n",
       "      <th>role_IT</th>\n",
       "      <th>mental_healthcare_coverage</th>\n",
       "      <th>knowledge_about_mental_healthcare_options_workplace</th>\n",
       "      <th>employer_discussed_mental_health</th>\n",
       "      <th>employer_offer_resources_to_learn_about_mental_health</th>\n",
       "      <th>medical_leave_from_work</th>\n",
       "      <th>comfortable_discussing_with_coworkers</th>\n",
       "      <th>...</th>\n",
       "      <th>while_effective_treatment_mental_health_issue_interferes_work</th>\n",
       "      <th>while_not_effective_treatment_interferes_work</th>\n",
       "      <th>age</th>\n",
       "      <th>gender</th>\n",
       "      <th>country</th>\n",
       "      <th>US state</th>\n",
       "      <th>country work</th>\n",
       "      <th>US state work</th>\n",
       "      <th>role_in_company</th>\n",
       "      <th>work_remotely</th>\n",
       "    </tr>\n",
       "  </thead>\n",
       "  <tbody>\n",
       "    <tr>\n",
       "      <th>0</th>\n",
       "      <td>0</td>\n",
       "      <td>1 to 5</td>\n",
       "      <td>1.0</td>\n",
       "      <td>NaN</td>\n",
       "      <td>Yes</td>\n",
       "      <td>Yes</td>\n",
       "      <td>No</td>\n",
       "      <td>No</td>\n",
       "      <td>Somewhat difficult</td>\n",
       "      <td>Maybe</td>\n",
       "      <td>...</td>\n",
       "      <td>Sometimes</td>\n",
       "      <td>Often</td>\n",
       "      <td>33</td>\n",
       "      <td>Male</td>\n",
       "      <td>Canada</td>\n",
       "      <td>NaN</td>\n",
       "      <td>Canada</td>\n",
       "      <td>NaN</td>\n",
       "      <td>Back-end Developer</td>\n",
       "      <td>Sometimes</td>\n",
       "    </tr>\n",
       "    <tr>\n",
       "      <th>1</th>\n",
       "      <td>0</td>\n",
       "      <td>1 to 5</td>\n",
       "      <td>1.0</td>\n",
       "      <td>NaN</td>\n",
       "      <td>No</td>\n",
       "      <td>No</td>\n",
       "      <td>No</td>\n",
       "      <td>I don't know</td>\n",
       "      <td>Very easy</td>\n",
       "      <td>Yes</td>\n",
       "      <td>...</td>\n",
       "      <td>Not applicable to me</td>\n",
       "      <td>Not applicable to me</td>\n",
       "      <td>40</td>\n",
       "      <td>male</td>\n",
       "      <td>Netherlands</td>\n",
       "      <td>NaN</td>\n",
       "      <td>Netherlands</td>\n",
       "      <td>NaN</td>\n",
       "      <td>Front-end Developer|Back-end Developer</td>\n",
       "      <td>Sometimes</td>\n",
       "    </tr>\n",
       "  </tbody>\n",
       "</table>\n",
       "<p>2 rows × 31 columns</p>\n",
       "</div>"
      ],
      "text/plain": [
       "   self_employed no_of_employees  tech_company  role_IT  \\\n",
       "0              0          1 to 5           1.0      NaN   \n",
       "1              0          1 to 5           1.0      NaN   \n",
       "\n",
       "  mental_healthcare_coverage  \\\n",
       "0                        Yes   \n",
       "1                         No   \n",
       "\n",
       "  knowledge_about_mental_healthcare_options_workplace  \\\n",
       "0                                                Yes    \n",
       "1                                                 No    \n",
       "\n",
       "  employer_discussed_mental_health   \\\n",
       "0                                No   \n",
       "1                                No   \n",
       "\n",
       "  employer_offer_resources_to_learn_about_mental_health  \\\n",
       "0                                                 No      \n",
       "1                                       I don't know      \n",
       "\n",
       "  medical_leave_from_work  comfortable_discussing_with_coworkers  ...  \\\n",
       "0       Somewhat difficult                                 Maybe  ...   \n",
       "1                Very easy                                   Yes  ...   \n",
       "\n",
       "  while_effective_treatment_mental_health_issue_interferes_work  \\\n",
       "0                                          Sometimes              \n",
       "1                               Not applicable to me              \n",
       "\n",
       "  while_not_effective_treatment_interferes_work  age gender      country  \\\n",
       "0                                          Often  33   Male       Canada   \n",
       "1                           Not applicable to me  40   male  Netherlands   \n",
       "\n",
       "  US state country work  US state work  \\\n",
       "0      NaN        Canada           NaN   \n",
       "1      NaN   Netherlands           NaN   \n",
       "\n",
       "                          role_in_company work_remotely  \n",
       "0                      Back-end Developer     Sometimes  \n",
       "1  Front-end Developer|Back-end Developer     Sometimes  \n",
       "\n",
       "[2 rows x 31 columns]"
      ]
     },
     "execution_count": 43,
     "metadata": {},
     "output_type": "execute_result"
    }
   ],
   "source": [
    "## checking the dataframe\n",
    "df.head(n=2)"
   ]
  },
  {
   "cell_type": "code",
   "execution_count": 44,
   "id": "d89f1333-313e-4204-907a-ad87bf53bf6c",
   "metadata": {},
   "outputs": [],
   "source": [
    "## Rename the columns\n",
    "a=list(df.columns)\n",
    "b=['self_employed','no_of_employees','tech_company','role_IT','mental_healthcare_coverage',\n",
    "  'knowledge_about_mental_healthcare_options_workplace','employer_discussed_mental_health ',\n",
    "  'employer_offer_resources_to_learn_about_mental_health','medical_leave_from_work ',\n",
    "  'comfortable_discussing_with_coworkers','employer_take_mental_health_seriously',\n",
    "   'knowledge_of_local_online_resources ','productivity_affected_by_mental_health ',\n",
    "   'percentage_work_time_affected_mental_health','openess_of_family_friends',\n",
    "  'family_history_mental_illness','mental_health_disorder_past',\n",
    "   'currently_mental_health_disorder','diagnosed_mental_health_condition',\n",
    "   'type_of_disorder','treatment_from_professional',\n",
    "   'while_effective_treatment_mental_health_issue_interferes_work',\n",
    "  'while_not_effective_treatment_interferes_work ','age','gender','country','US state',\n",
    "  'country work ','US state work','role_in_company','work_remotely','']\n",
    "for i,j in zip(a,b):\n",
    "    df.rename(columns={i:j},inplace=True)"
   ]
  },
  {
   "cell_type": "code",
   "execution_count": 45,
   "id": "71d6d6a8-d6a4-439b-ab92-603bac53a530",
   "metadata": {},
   "outputs": [
    {
     "name": "stdout",
     "output_type": "stream",
     "text": [
      "Missing values per column:\n",
      "self_employed                                                       0\n",
      "no_of_employees                                                   287\n",
      "tech_company                                                      287\n",
      "role_IT                                                          1170\n",
      "mental_healthcare_coverage                                        287\n",
      "knowledge_about_mental_healthcare_options_workplace               420\n",
      "employer_discussed_mental_health                                  287\n",
      "employer_offer_resources_to_learn_about_mental_health             287\n",
      "medical_leave_from_work                                           287\n",
      "comfortable_discussing_with_coworkers                             287\n",
      "employer_take_mental_health_seriously                             287\n",
      "knowledge_of_local_online_resources                              1146\n",
      "productivity_affected_by_mental_health                           1146\n",
      "percentage_work_time_affected_mental_health                      1229\n",
      "openess_of_family_friends                                           0\n",
      "family_history_mental_illness                                       0\n",
      "mental_health_disorder_past                                         0\n",
      "currently_mental_health_disorder                                    0\n",
      "diagnosed_mental_health_condition                                   0\n",
      "type_of_disorder                                                  722\n",
      "treatment_from_professional                                         0\n",
      "while_effective_treatment_mental_health_issue_interferes_work       0\n",
      "while_not_effective_treatment_interferes_work                       0\n",
      "age                                                                 0\n",
      "gender                                                              3\n",
      "country                                                             0\n",
      "US state                                                          593\n",
      "country work                                                        0\n",
      "US state work                                                     582\n",
      "role_in_company                                                     0\n",
      "work_remotely                                                       0\n",
      "dtype: int64\n"
     ]
    }
   ],
   "source": [
    "# Check for missing values\n",
    "missing_values = df.isna().sum()\n",
    "print(\"Missing values per column:\")\n",
    "print(missing_values)"
   ]
  },
  {
   "cell_type": "code",
   "execution_count": 46,
   "id": "f6c4b5d1-de5a-4dd6-a8c1-c0c4736b4bab",
   "metadata": {},
   "outputs": [],
   "source": [
    "## copy the dataset in df1\n",
    "df1=df.copy()"
   ]
  },
  {
   "cell_type": "code",
   "execution_count": 47,
   "id": "4eff2fbf-0625-4a61-aac1-90ee2580e3af",
   "metadata": {},
   "outputs": [
    {
     "name": "stdout",
     "output_type": "stream",
     "text": [
      "Index(['self_employed', 'no_of_employees', 'tech_company', 'role_IT',\n",
      "       'mental_healthcare_coverage',\n",
      "       'knowledge_about_mental_healthcare_options_workplace',\n",
      "       'employer_discussed_mental_health ',\n",
      "       'employer_offer_resources_to_learn_about_mental_health',\n",
      "       'medical_leave_from_work ', 'comfortable_discussing_with_coworkers',\n",
      "       'employer_take_mental_health_seriously',\n",
      "       'knowledge_of_local_online_resources ',\n",
      "       'productivity_affected_by_mental_health ',\n",
      "       'percentage_work_time_affected_mental_health',\n",
      "       'openess_of_family_friends', 'family_history_mental_illness',\n",
      "       'mental_health_disorder_past', 'currently_mental_health_disorder',\n",
      "       'diagnosed_mental_health_condition', 'type_of_disorder',\n",
      "       'treatment_from_professional',\n",
      "       'while_effective_treatment_mental_health_issue_interferes_work',\n",
      "       'while_not_effective_treatment_interferes_work ', 'age', 'gender',\n",
      "       'country', 'US state', 'country work ', 'US state work',\n",
      "       'role_in_company', 'work_remotely'],\n",
      "      dtype='object')\n"
     ]
    }
   ],
   "source": [
    "print(df1.columns)"
   ]
  },
  {
   "cell_type": "code",
   "execution_count": 48,
   "id": "10d7b8ad-1716-4fb6-be04-ee945d80bd4a",
   "metadata": {},
   "outputs": [],
   "source": [
    "## Drop the unnecessary colums \n",
    "cols_to_drop = ['role_IT', 'knowledge_of_local_online_resources ', 'productivity_affected_by_mental_health ', \n",
    "                'percentage_work_time_affected_mental_health']\n",
    "df_red = df1.drop(cols_to_drop, axis=1)"
   ]
  },
  {
   "cell_type": "code",
   "execution_count": 49,
   "id": "1c85c2e2-a9a3-4221-8a7e-f20456e2c262",
   "metadata": {},
   "outputs": [
    {
     "name": "stdout",
     "output_type": "stream",
     "text": [
      "Index(['self_employed', 'no_of_employees', 'tech_company',\n",
      "       'mental_healthcare_coverage',\n",
      "       'knowledge_about_mental_healthcare_options_workplace',\n",
      "       'employer_discussed_mental_health ',\n",
      "       'employer_offer_resources_to_learn_about_mental_health',\n",
      "       'medical_leave_from_work ', 'comfortable_discussing_with_coworkers',\n",
      "       'employer_take_mental_health_seriously', 'openess_of_family_friends',\n",
      "       'family_history_mental_illness', 'mental_health_disorder_past',\n",
      "       'currently_mental_health_disorder', 'diagnosed_mental_health_condition',\n",
      "       'type_of_disorder', 'treatment_from_professional',\n",
      "       'while_effective_treatment_mental_health_issue_interferes_work',\n",
      "       'while_not_effective_treatment_interferes_work ', 'age', 'gender',\n",
      "       'country', 'US state', 'country work ', 'US state work',\n",
      "       'role_in_company', 'work_remotely'],\n",
      "      dtype='object')\n"
     ]
    }
   ],
   "source": [
    "print(df_red.columns)"
   ]
  },
  {
   "cell_type": "code",
   "execution_count": 50,
   "id": "f433b328-3050-4b2f-9f6a-44d63179de0f",
   "metadata": {},
   "outputs": [
    {
     "data": {
      "text/plain": [
       "array(['1 to 5', '6 to 25', '26-99', '100-500', '26-100', '500-1000',\n",
       "       'More than 1000', nan], dtype=object)"
      ]
     },
     "execution_count": 50,
     "metadata": {},
     "output_type": "execute_result"
    }
   ],
   "source": [
    "#Cleaning different columns:\n",
    " ## No of Employees column\n",
    "df_red.no_of_employees.unique()   \n"
   ]
  },
  {
   "cell_type": "code",
   "execution_count": 51,
   "id": "08c44fc6-0ecd-4212-91e5-b1443ea9dd86",
   "metadata": {},
   "outputs": [],
   "source": [
    "df_red.no_of_employees.replace(to_replace=['1 to 5', '6 to 25','More than 1000','26-99'],\n",
    "                                value=['1-5','6-25','>1000','26-100'],inplace=True)"
   ]
  },
  {
   "cell_type": "code",
   "execution_count": 52,
   "id": "8342c434-32f2-4325-9ade-d3943c8e8566",
   "metadata": {},
   "outputs": [
    {
     "data": {
      "text/plain": [
       "26-100      326\n",
       ">1000       256\n",
       "100-500     248\n",
       "6-25        176\n",
       "500-1000     80\n",
       "1-5          60\n",
       "Name: no_of_employees, dtype: int64"
      ]
     },
     "execution_count": 52,
     "metadata": {},
     "output_type": "execute_result"
    }
   ],
   "source": [
    "df_red.no_of_employees.value_counts()"
   ]
  },
  {
   "cell_type": "code",
   "execution_count": 53,
   "id": "00c6b594-d983-48f0-946e-e5cda7d1e9d5",
   "metadata": {},
   "outputs": [
    {
     "data": {
      "text/plain": [
       "array(['Yes', 'No', \"I don't know\", 'Not eligible for coverage / N/A',\n",
       "       nan], dtype=object)"
      ]
     },
     "execution_count": 53,
     "metadata": {},
     "output_type": "execute_result"
    }
   ],
   "source": [
    "## Cleaning Mental Health Care coverage column\n",
    "df_red.mental_healthcare_coverage.unique()"
   ]
  },
  {
   "cell_type": "code",
   "execution_count": 54,
   "id": "60dcc29c-fdbd-4ecf-9155-b6612e259ff3",
   "metadata": {},
   "outputs": [
    {
     "data": {
      "text/plain": [
       "array(['Yes', 'No', \"I don't know\", nan], dtype=object)"
      ]
     },
     "execution_count": 54,
     "metadata": {},
     "output_type": "execute_result"
    }
   ],
   "source": [
    "df_red.mental_healthcare_coverage.replace(to_replace=['Not eligible for coverage / N/A'],\n",
    "                                value='No',inplace=True)\n",
    "df_red.mental_healthcare_coverage.unique()"
   ]
  },
  {
   "cell_type": "code",
   "execution_count": 55,
   "id": "76148666-215a-4f99-ba33-a0457d3f3b8f",
   "metadata": {},
   "outputs": [
    {
     "data": {
      "text/plain": [
       "array(['Somewhat open', 'Very open', 'Somewhat not open', 'Neutral',\n",
       "       'Not applicable to me (I do not have a mental illness)',\n",
       "       'Not open at all'], dtype=object)"
      ]
     },
     "execution_count": 55,
     "metadata": {},
     "output_type": "execute_result"
    }
   ],
   "source": [
    "## Cleaning openess_of_family_friends column\n",
    "df_red.openess_of_family_friends.unique()"
   ]
  },
  {
   "cell_type": "code",
   "execution_count": 56,
   "id": "af836447-737e-4e43-bd71-fbc8edbf9025",
   "metadata": {},
   "outputs": [
    {
     "data": {
      "text/plain": [
       "array(['Somewhat open', 'Very open', 'Somewhat not open', 'Neutral',\n",
       "       \"I don't know\", 'Not open at all'], dtype=object)"
      ]
     },
     "execution_count": 56,
     "metadata": {},
     "output_type": "execute_result"
    }
   ],
   "source": [
    "df_red.openess_of_family_friends.replace(to_replace=['Not applicable to me (I do not have a mental illness)']\n",
    "                                          ,value=\"I don't know\",inplace=True)\n",
    "df_red.openess_of_family_friends.unique()"
   ]
  },
  {
   "cell_type": "code",
   "execution_count": 57,
   "id": "3b00ed97-06e1-457a-bc79-2caa96b6d430",
   "metadata": {},
   "outputs": [],
   "source": [
    "## Cleaning the age column remove outliers\n",
    "med_age = df_red[(df_red['age'] >= 18) | (df_red['age'] <= 75)]['age'].median()\n",
    "df_red['age'].replace(to_replace = df_red[(df_red['age'] < 18) | (df_red['age'] > 75)]['age'].tolist(),\n",
    "                          value = med_age, inplace = True)"
   ]
  },
  {
   "cell_type": "code",
   "execution_count": 58,
   "id": "a6a0e985-082a-45fd-90b4-a72afe4b5da8",
   "metadata": {},
   "outputs": [
    {
     "data": {
      "text/plain": [
       "array(['Male', 'male', 'F', 'Transitioned, M2F', 'Other/Transfeminine',\n",
       "       'M', 'female', 'm', 'Female', 'f', 'non-binary', 'woman', 'male ',\n",
       "       'Male ', 'Bigender', 'Genderfluid (born female)',\n",
       "       'male 9:1 female, roughly', 'Male (cis)', 'Other', 'Sex is male',\n",
       "       'genderqueer', 'Human', 'mail', 'Cis-woman',\n",
       "       'female-bodied; no feelings about gender', 'Transgender woman',\n",
       "       'Genderfluid', 'female ', 'Male/genderqueer', 'fem', 'Nonbinary',\n",
       "       ' Female', 'Female ', 'Genderqueer', nan, 'I identify as female.',\n",
       "       'fm', 'Cis female ', 'female/woman', 'Androgynous', 'man',\n",
       "       'nb masculine', 'Cisgender Female', 'Woman', 'Cis Male',\n",
       "       'Female or Multi-Gender Femme', 'Male.', 'Enby', 'Agender',\n",
       "       'Female (props for making this a freeform field, though)',\n",
       "       'cis man', 'Female assigned at birth ', 'Cis male', 'Man',\n",
       "       'none of your business', 'cis male', 'genderqueer woman', 'Queer',\n",
       "       'Dude', 'Male (trans, FtM)', 'cisdude', 'Genderflux demi-girl',\n",
       "       'Malr', 'mtf', 'Fluid',\n",
       "       \"I'm a man why didn't you make this a drop down question. You should of asked sex? And I would of answered yes please. Seriously how much text can this take? \",\n",
       "       'M|', 'human', 'Unicorn', 'AFAB', 'MALE'], dtype=object)"
      ]
     },
     "execution_count": 58,
     "metadata": {},
     "output_type": "execute_result"
    }
   ],
   "source": [
    "# Cleaning the gender column\n",
    "df_red.gender.unique()"
   ]
  },
  {
   "cell_type": "code",
   "execution_count": 59,
   "id": "f029f602-e10a-4d59-b999-0829f0c822a4",
   "metadata": {},
   "outputs": [],
   "source": [
    "df_red['gender'].replace(to_replace = ['Male', 'male', 'Male ', 'M', 'm',\n",
    "       'man', 'Cis male', 'Male.', 'male 9:1 female, roughly', 'Male (cis)', 'Man', 'Sex is male',\n",
    "       'cis male', 'Malr', 'Dude', \"I'm a man why didn't you make this a drop down question. You should of asked sex? And I would of answered yes please. Seriously how much text can this take? \",\n",
    "       'mail', 'M|', 'Male/genderqueer', 'male ',\n",
    "       'Cis Male', 'Male (trans, FtM)',\n",
    "       'cisdude', 'cis man', 'MALE'], value = 'male', inplace = True)\n",
    "df_red['gender'].replace(to_replace = ['Female', 'female', 'I identify as female.', 'female ',\n",
    "       'Female assigned at birth ', 'F', 'Woman', 'fm', 'f', 'Cis female ', 'Transitioned, M2F',\n",
    "       'Genderfluid (born female)', 'Female or Multi-Gender Femme', 'Female ', 'woman', 'female/woman',\n",
    "       'Cisgender Female', 'fem', 'Female (props for making this a freeform field, though)',\n",
    "       ' Female', 'Cis-woman', 'female-bodied; no feelings about gender',\n",
    "       'AFAB'], value = 'female', inplace = True)\n",
    "df_red['gender'].replace(to_replace = ['Bigender', 'non-binary', 'Other/Transfeminine',\n",
    "       'Androgynous', 'Other', 'nb masculine',\n",
    "       'none of your business', 'genderqueer', 'Human', 'Genderfluid',\n",
    "       'Enby', 'genderqueer woman', 'mtf', 'Queer', 'Agender', 'Fluid',\n",
    "       'Nonbinary', 'human', 'Unicorn', 'Genderqueer',\n",
    "       'Genderflux demi-girl', 'Transgender woman'], value = 'other', inplace = True)"
   ]
  },
  {
   "cell_type": "code",
   "execution_count": 60,
   "id": "e518835a-df4a-47b5-be12-cc851160836a",
   "metadata": {},
   "outputs": [
    {
     "data": {
      "text/plain": [
       "array(['male', 'female', 'other', nan], dtype=object)"
      ]
     },
     "execution_count": 60,
     "metadata": {},
     "output_type": "execute_result"
    }
   ],
   "source": [
    "df_red.gender.unique()"
   ]
  },
  {
   "cell_type": "code",
   "execution_count": 61,
   "id": "5a351699-a672-4f15-9a69-c95eaa94b04b",
   "metadata": {},
   "outputs": [],
   "source": [
    "## Cleaning the role_in_company\n",
    "tech_list = []\n",
    "tech_list.append(df_red[df_red['role_in_company'].str.contains('Back-end')]['role_in_company'].tolist())\n",
    "tech_list.append(df_red[df_red['role_in_company'].str.contains('Front-end')]['role_in_company'].tolist())\n",
    "tech_list.append(df_red[df_red['role_in_company'].str.contains('Dev')]['role_in_company'].tolist())\n",
    "tech_list.append(df_red[df_red['role_in_company'].str.contains('DevOps')]['role_in_company'].tolist())\n",
    "flat_list = [item for sublist in tech_list for item in sublist]\n",
    "flat_list = list(dict.fromkeys(flat_list))"
   ]
  },
  {
   "cell_type": "code",
   "execution_count": 62,
   "id": "b088f079-7adc-4a61-a639-bf8795a06e91",
   "metadata": {},
   "outputs": [],
   "source": [
    " #Replace tech role=1 and other=0 in a new tech role operation\n",
    "df_red['tech_role']=df_red['role_in_company']\n",
    "df_red['tech_role'].replace(to_replace=flat_list,value=1,inplace=True)\n",
    "remain_list=df_red['tech_role'].unique()[1:]\n",
    "df_red['tech_role'].replace(to_replace=remain_list,value=0,inplace=True)"
   ]
  },
  {
   "cell_type": "code",
   "execution_count": 63,
   "id": "3877db86-f3cc-4889-a656-d7c0596f02d0",
   "metadata": {},
   "outputs": [
    {
     "data": {
      "text/plain": [
       "1    1045\n",
       "0     388\n",
       "Name: tech_role, dtype: int64"
      ]
     },
     "execution_count": 63,
     "metadata": {},
     "output_type": "execute_result"
    }
   ],
   "source": [
    "df_red.tech_role.value_counts()"
   ]
  },
  {
   "cell_type": "code",
   "execution_count": 64,
   "id": "cddbccfa-958b-49b4-8a62-a81dd7e9db8d",
   "metadata": {},
   "outputs": [],
   "source": [
    "df_red=df_red.drop(['role_in_company'],axis=1)"
   ]
  },
  {
   "cell_type": "code",
   "execution_count": 65,
   "id": "1f3e7672-5fb8-42a8-859c-4345aa6b75c5",
   "metadata": {},
   "outputs": [],
   "source": [
    "#Handling Missing Values\n",
    "df_rej=pd.concat([df_red['type_of_disorder'],df_red['US state'],df_red['US state work']],axis=1)\n",
    "df_red=df_red.drop(['type_of_disorder','US state','US state work'],axis=1)"
   ]
  },
  {
   "cell_type": "code",
   "execution_count": 66,
   "id": "59f93b63-6216-47a9-802d-eb38999348aa",
   "metadata": {
    "jupyter": {
     "source_hidden": true
    },
    "tags": []
   },
   "outputs": [],
   "source": [
    "import numpy as np\n",
    "import pandas as pd\n",
    "\n",
    "\n",
    "df_red_imputed = df_red.copy()\n",
    "\n",
    "# Iterate over each column\n",
    "for column in df_red_imputed.columns:\n",
    "    # Check if column has missing values represented as empty strings\n",
    "    if (df_red_imputed[column] == \"\").sum() > 0:\n",
    "        # Replace empty strings with NaN\n",
    "        df_red_imputed[column].replace(\"\", np.nan, inplace=True)\n",
    "    \n",
    "    # Calculate the most frequent value in the column\n",
    "    most_frequent_value = df_red_imputed[column].mode()[0]\n",
    "    # Fill missing values with the most frequent value\n",
    "    df_red_imputed[column].fillna(most_frequent_value, inplace=True)\n"
   ]
  },
  {
   "cell_type": "code",
   "execution_count": 67,
   "id": "33b82161-a9e2-4e33-b26d-0b05a2ce6a02",
   "metadata": {},
   "outputs": [
    {
     "name": "stdout",
     "output_type": "stream",
     "text": [
      "                                                      0\n",
      "self_employed                                         0\n",
      "no_of_employees                                       0\n",
      "tech_company                                          0\n",
      "mental_healthcare_coverage                            0\n",
      "knowledge_about_mental_healthcare_options_workp...    0\n",
      "employer_discussed_mental_health                      0\n",
      "employer_offer_resources_to_learn_about_mental_...    0\n",
      "medical_leave_from_work                               0\n",
      "comfortable_discussing_with_coworkers                 0\n",
      "employer_take_mental_health_seriously                 0\n",
      "openess_of_family_friends                             0\n",
      "family_history_mental_illness                         0\n",
      "mental_health_disorder_past                           0\n",
      "currently_mental_health_disorder                      0\n",
      "diagnosed_mental_health_condition                     0\n",
      "treatment_from_professional                           0\n",
      "while_effective_treatment_mental_health_issue_i...    0\n",
      "while_not_effective_treatment_interferes_work         0\n",
      "age                                                   0\n",
      "gender                                                0\n",
      "country                                               0\n",
      "country work                                          0\n",
      "work_remotely                                         0\n",
      "tech_role                                             0\n",
      "type_of_disorder                                    722\n",
      "US state                                            593\n",
      "US state work                                       582\n"
     ]
    }
   ],
   "source": [
    "# Concatenate the imputed DataFrame 'df_red_imputed' and 'df_rej'\n",
    "df_eda = pd.concat([df_red_imputed, df_rej], axis=1)\n",
    "\n",
    "# Calculate the number of missing values in each column of 'df_eda'\n",
    "missing_values_count = df_eda.isnull().sum().to_frame()\n",
    "\n",
    "print(missing_values_count)"
   ]
  },
  {
   "cell_type": "markdown",
   "id": "c8ee817d-e7cc-4f09-9d25-2ec3e4e0b607",
   "metadata": {},
   "source": [
    "Answering the First Question: If a person is self employed then is there a higher chance of mental disorder?"
   ]
  },
  {
   "cell_type": "code",
   "execution_count": 68,
   "id": "2bdfd0bb-af04-4ee2-a0b7-274db9b5ad94",
   "metadata": {},
   "outputs": [
    {
     "data": {
      "text/plain": [
       "([<matplotlib.patches.Wedge at 0x1c6f041c550>,\n",
       "  <matplotlib.patches.Wedge at 0x1c6f0458ad0>],\n",
       " [Text(-0.018092161764598828, 1.0998512052467295, 'No'),\n",
       "  Text(0.01809216176459845, -1.0998512052467295, 'Yes')],\n",
       " [Text(-0.00986845187159936, 0.5999188392254888, '50.523561%'),\n",
       "  Text(0.009868451871599154, -0.5999188392254888, '49.476439%')])"
      ]
     },
     "execution_count": 68,
     "metadata": {},
     "output_type": "execute_result"
    },
    {
     "data": {
      "image/png": "[encoded data removed]",
      "text/plain": [
       "<Figure size 640x480 with 2 Axes>"
      ]
     },
     "metadata": {},
     "output_type": "display_data"
    }
   ],
   "source": [
    "import matplotlib.pyplot as plt\n",
    "plt.subplot(1,2,1)\n",
    "plt.title(\"for self employed\")\n",
    "plt.pie(df_eda[df_eda.self_employed==1]['diagnosed_mental_health_condition'].value_counts(),\n",
    "       autopct='%1f%%',radius=1, \n",
    "       labels=df_eda[df_eda.self_employed==1]['diagnosed_mental_health_condition'].value_counts().index)\n",
    "\n",
    "plt.subplot(1,2,2)\n",
    "plt.title(\"for not self employed\")\n",
    "plt.pie(df_eda[df_eda.self_employed==0]['diagnosed_mental_health_condition'].value_counts(),\n",
    "       autopct='%1f%%',radius=1, \n",
    "       labels=df_eda[df_eda.self_employed==0]['diagnosed_mental_health_condition'].value_counts().index)"
   ]
  },
  {
   "cell_type": "markdown",
   "id": "3ad98ad2-8e9f-46a8-9147-129261984f9e",
   "metadata": {},
   "source": [
    "From the above pie diagram its clear that its nearly high chances of mental disorder than not self employed"
   ]
  },
  {
   "cell_type": "markdown",
   "id": "22b4c1f5-8968-42ce-b8dd-41c15ffde04b",
   "metadata": {},
   "source": [
    "Answering the Second Question :Does big size of the company affect your mental health condition adversely?"
   ]
  },
  {
   "cell_type": "code",
   "execution_count": 69,
   "id": "2a10d8d4-6419-48b2-8584-107ba510bfe7",
   "metadata": {},
   "outputs": [
    {
     "data": {
      "text/plain": [
       "Text(0.5, 1.0, 'Mental health in different size companies')"
      ]
     },
     "execution_count": 69,
     "metadata": {},
     "output_type": "execute_result"
    },
    {
     "data": {
      "image/png": "[encoded data removed]",
      "text/plain": [
       "<Figure size 640x480 with 1 Axes>"
      ]
     },
     "metadata": {},
     "output_type": "display_data"
    }
   ],
   "source": [
    "sns.countplot(data=df_eda,x='no_of_employees',hue='diagnosed_mental_health_condition')\n",
    "plt.title('Mental health in different size companies')"
   ]
  },
  {
   "cell_type": "markdown",
   "id": "b24cb4e5-c359-4009-8672-d5fa11af3f96",
   "metadata": {},
   "source": [
    "Well , its clear from the graph, that size of the company does not affect directly to mental helath condition adversely.Infact , its inversely proportional i.e small scale company shows higher mental condition"
   ]
  },
  {
   "cell_type": "markdown",
   "id": "f9c2dd1e-4785-42d1-9f6a-14c5f89c1e39",
   "metadata": {},
   "source": [
    "Answering the third question:.  Does working in a tech company affect adversely to your mental wellbeing?"
   ]
  },
  {
   "cell_type": "code",
   "execution_count": 70,
   "id": "ac306a4d-daef-4d8a-a89b-c397f80d5296",
   "metadata": {},
   "outputs": [
    {
     "data": {
      "text/plain": [
       "([<matplotlib.patches.Wedge at 0x1c6f055ac10>,\n",
       "  <matplotlib.patches.Wedge at 0x1c6f0580950>],\n",
       " [Text(-0.019708651065785975, 1.0998234263158642, 'Yes'),\n",
       "  Text(0.019708754038686934, -1.0998234244706022, 'No')],\n",
       " [Text(-0.01075017330861053, 0.5999036870813804, '50.570345%'),\n",
       "  Text(0.010750229475647417, -0.5999036860748739, '49.429658%')])"
      ]
     },
     "execution_count": 70,
     "metadata": {},
     "output_type": "execute_result"
    },
    {
     "data": {
      "image/png": "[encoded data removed]",
      "text/plain": [
       "<Figure size 640x480 with 2 Axes>"
      ]
     },
     "metadata": {},
     "output_type": "display_data"
    }
   ],
   "source": [
    "plt.subplot(1,2,1)\n",
    "plt.title(\"Tech company\")\n",
    "plt.pie(df_eda[df_eda.tech_company==1]['diagnosed_mental_health_condition'].value_counts(),\n",
    "       autopct='%1f%%',radius=1, \n",
    "       labels=df_eda[df_eda.tech_company==1]['diagnosed_mental_health_condition'].value_counts().index)\n",
    "\n",
    "plt.subplot(1,2,2)\n",
    "plt.title(\"Non Tech company\")\n",
    "plt.pie(df_eda[df_eda.tech_company==0]['diagnosed_mental_health_condition'].value_counts(),\n",
    "       autopct='%1f%%',radius=1,\n",
    "       labels=df_eda[df_eda.tech_company==0]['diagnosed_mental_health_condition'].value_counts().index)"
   ]
  },
  {
   "cell_type": "markdown",
   "id": "ce1ce7ab-fedb-4e6d-89b6-d2180ed43e78",
   "metadata": {},
   "source": [
    "Well, there is no clear indication that tech company affects adversely to your mental wellbeing"
   ]
  },
  {
   "cell_type": "markdown",
   "id": "5afddb3e-429d-45d8-9012-c2c246c3323a",
   "metadata": {},
   "source": [
    "Answering the 4th question:Will working remotely helps to better the mental health condition?"
   ]
  },
  {
   "cell_type": "code",
   "execution_count": 71,
   "id": "5960a4d3-2834-43ad-9dd5-31c3ac7df005",
   "metadata": {},
   "outputs": [
    {
     "data": {
      "text/plain": [
       "([<matplotlib.patches.Wedge at 0x1c6f02f7ad0>,\n",
       "  <matplotlib.patches.Wedge at 0x1c6f031e590>],\n",
       " [Text(-0.15000672147010105, 1.089723810657449, 'No'),\n",
       "  Text(0.15000661944279384, -1.089723824702087, 'Yes')],\n",
       " [Text(-0.08182184807460056, 0.5943948058131538, '54.354352%'),\n",
       "  Text(0.08182179242334207, -0.5943948134738656, '45.645645%')])"
      ]
     },
     "execution_count": 71,
     "metadata": {},
     "output_type": "execute_result"
    },
    {
     "data": {
      "image/png": "[encoded data removed]",
      "text/plain": [
       "<Figure size 1000x1000 with 3 Axes>"
      ]
     },
     "metadata": {},
     "output_type": "display_data"
    }
   ],
   "source": [
    "plt.figure(figsize=(10,10))\n",
    "plt.subplot(1,3,1)\n",
    "plt.title(\"Always Remote work\")\n",
    "plt.pie(df_eda[df_eda.work_remotely=='Always']['diagnosed_mental_health_condition'].value_counts(),\n",
    "       autopct='%1f%%',radius=1,\n",
    "       labels=df_eda[df_eda.work_remotely=='Always']['diagnosed_mental_health_condition'].value_counts().index)\n",
    "\n",
    "plt.subplot(1,3,2)\n",
    "plt.title(\"Sometime Remote work\")\n",
    "plt.pie(df_eda[df_eda.work_remotely=='Sometimes']['diagnosed_mental_health_condition'].value_counts(),\n",
    "       autopct='%1f%%',radius=1,\n",
    "       labels=df_eda[df_eda.work_remotely=='Sometimes']['diagnosed_mental_health_condition'].value_counts().index)\n",
    "\n",
    "plt.subplot(1,3,3)\n",
    "plt.title(\"Never Remote work\")\n",
    "plt.pie(df_eda[df_eda.work_remotely=='Never']['diagnosed_mental_health_condition'].value_counts(),\n",
    "       autopct='%1f%%',radius=1,\n",
    "       labels=df_eda[df_eda.work_remotely=='Never']['diagnosed_mental_health_condition'].value_counts().index)"
   ]
  },
  {
   "cell_type": "markdown",
   "id": "86a21315-d1f4-4ce6-98a2-61714b4900d2",
   "metadata": {},
   "source": [
    "So, its clear the mix of remote and office is best way for mental well being"
   ]
  },
  {
   "cell_type": "markdown",
   "id": "dea09b80-da1b-4988-a1e5-f54ccb7c0f36",
   "metadata": {},
   "source": [
    "Answering the question : Country wise positive disorder cases?"
   ]
  },
  {
   "cell_type": "code",
   "execution_count": 72,
   "id": "9e4b1ec0-69e7-49dc-849c-450650552276",
   "metadata": {},
   "outputs": [],
   "source": [
    "import chart_studio.plotly as py \n",
    "import plotly.graph_objs as gobj\n",
    "from plotly.offline import download_plotlyjs,init_notebook_mode,plot,iplot"
   ]
  },
  {
   "cell_type": "code",
   "execution_count": 73,
   "id": "36fa8a96-cbf0-49d5-971a-a48aafafdc8d",
   "metadata": {},
   "outputs": [
    {
     "data": {
      "application/vnd.plotly.v1+json": {
       "config": {
        "linkText": "Export to plot.ly",
        "plotlyServerURL": "https://plot.ly",
        "showLink": false
       },
       "data": [
        {
         "colorbar": {
          "len": 200,
          "lenmode": "pixels",
          "title": {
           "text": "Country Colours"
          }
         },
         "colorscale": [
          [
           0,
           "rgb(150,0,90)"
          ],
          [
           0.125,
           "rgb(0,0,200)"
          ],
          [
           0.25,
           "rgb(0,25,255)"
          ],
          [
           0.375,
           "rgb(0,152,255)"
          ],
          [
           0.5,
           "rgb(44,255,150)"
          ],
          [
           0.625,
           "rgb(151,255,0)"
          ],
          [
           0.75,
           "rgb(255,234,0)"
          ],
          [
           0.875,
           "rgb(255,111,0)"
          ],
          [
           1,
           "rgb(255,0,0)"
          ]
         ],
         "locationmode": "country names",
         "locations": [
          "United States of America",
          "United Kingdom",
          "Canada",
          "Netherlands",
          "Australia",
          "Germany",
          "Ireland",
          "Sweden",
          "Switzerland",
          "France",
          "Brazil",
          "New Zealand",
          "Finland",
          "Denmark",
          "India",
          "Austria",
          "Afghanistan",
          "Pakistan",
          "Belgium",
          "Algeria",
          "Poland",
          "Other",
          "Romania",
          "Hungary",
          "Czech Republic",
          "Spain",
          "Ecuador",
          "Norway",
          "Bulgaria",
          "Israel",
          "Bangladesh",
          "Chile",
          "Guatemala"
         ],
         "type": "choropleth",
         "z": [
          473,
          76,
          31,
          25,
          24,
          21,
          8,
          7,
          6,
          5,
          4,
          4,
          3,
          3,
          3,
          3,
          2,
          2,
          2,
          1,
          1,
          1,
          1,
          1,
          1,
          1,
          1,
          1,
          1,
          1,
          1,
          1,
          1
         ]
        }
       ],
       "layout": {
        "autosize": true,
        "geo": {
         "scope": "world"
        },
        "template": {
         "data": {
          "bar": [
           {
            "error_x": {
             "color": "#2a3f5f"
            },
            "error_y": {
             "color": "#2a3f5f"
            },
            "marker": {
             "line": {
              "color": "#E5ECF6",
              "width": 0.5
             },
             "pattern": {
              "fillmode": "overlay",
              "size": 10,
              "solidity": 0.2
             }
            },
            "type": "bar"
           }
          ],
          "barpolar": [
           {
            "marker": {
             "line": {
              "color": "#E5ECF6",
              "width": 0.5
             },
             "pattern": {
              "fillmode": "overlay",
              "size": 10,
              "solidity": 0.2
             }
            },
            "type": "barpolar"
           }
          ],
          "carpet": [
           {
            "aaxis": {
             "endlinecolor": "#2a3f5f",
             "gridcolor": "white",
             "linecolor": "white",
             "minorgridcolor": "white",
             "startlinecolor": "#2a3f5f"
            },
            "baxis": {
             "endlinecolor": "#2a3f5f",
             "gridcolor": "white",
             "linecolor": "white",
             "minorgridcolor": "white",
             "startlinecolor": "#2a3f5f"
            },
            "type": "carpet"
           }
          ],
          "choropleth": [
           {
            "colorbar": {
             "outlinewidth": 0,
             "ticks": ""
            },
            "type": "choropleth"
           }
          ],
          "contour": [
           {
            "colorbar": {
             "outlinewidth": 0,
             "ticks": ""
            },
            "colorscale": [
             [
              0,
              "#0d0887"
             ],
             [
              0.1111111111111111,
              "#46039f"
             ],
             [
              0.2222222222222222,
              "#7201a8"
             ],
             [
              0.3333333333333333,
              "#9c179e"
             ],
             [
              0.4444444444444444,
              "#bd3786"
             ],
             [
              0.5555555555555556,
              "#d8576b"
             ],
             [
              0.6666666666666666,
              "#ed7953"
             ],
             [
              0.7777777777777778,
              "#fb9f3a"
             ],
             [
              0.8888888888888888,
              "#fdca26"
             ],
             [
              1,
              "#f0f921"
             ]
            ],
            "type": "contour"
           }
          ],
          "contourcarpet": [
           {
            "colorbar": {
             "outlinewidth": 0,
             "ticks": ""
            },
            "type": "contourcarpet"
           }
          ],
          "heatmap": [
           {
            "colorbar": {
             "outlinewidth": 0,
             "ticks": ""
            },
            "colorscale": [
             [
              0,
              "#0d0887"
             ],
             [
              0.1111111111111111,
              "#46039f"
             ],
             [
              0.2222222222222222,
              "#7201a8"
             ],
             [
              0.3333333333333333,
              "#9c179e"
             ],
             [
              0.4444444444444444,
              "#bd3786"
             ],
             [
              0.5555555555555556,
              "#d8576b"
             ],
             [
              0.6666666666666666,
              "#ed7953"
             ],
             [
              0.7777777777777778,
              "#fb9f3a"
             ],
             [
              0.8888888888888888,
              "#fdca26"
             ],
             [
              1,
              "#f0f921"
             ]
            ],
            "type": "heatmap"
           }
          ],
          "heatmapgl": [
           {
            "colorbar": {
             "outlinewidth": 0,
             "ticks": ""
            },
            "colorscale": [
             [
              0,
              "#0d0887"
             ],
             [
              0.1111111111111111,
              "#46039f"
             ],
             [
              0.2222222222222222,
              "#7201a8"
             ],
             [
              0.3333333333333333,
              "#9c179e"
             ],
             [
              0.4444444444444444,
              "#bd3786"
             ],
             [
              0.5555555555555556,
              "#d8576b"
             ],
             [
              0.6666666666666666,
              "#ed7953"
             ],
             [
              0.7777777777777778,
              "#fb9f3a"
             ],
             [
              0.8888888888888888,
              "#fdca26"
             ],
             [
              1,
              "#f0f921"
             ]
            ],
            "type": "heatmapgl"
           }
          ],
          "histogram": [
           {
            "marker": {
             "pattern": {
              "fillmode": "overlay",
              "size": 10,
              "solidity": 0.2
             }
            },
            "type": "histogram"
           }
          ],
          "histogram2d": [
           {
            "colorbar": {
             "outlinewidth": 0,
             "ticks": ""
            },
            "colorscale": [
             [
              0,
              "#0d0887"
             ],
             [
              0.1111111111111111,
              "#46039f"
             ],
             [
              0.2222222222222222,
              "#7201a8"
             ],
             [
              0.3333333333333333,
              "#9c179e"
             ],
             [
              0.4444444444444444,
              "#bd3786"
             ],
             [
              0.5555555555555556,
              "#d8576b"
             ],
             [
              0.6666666666666666,
              "#ed7953"
             ],
             [
              0.7777777777777778,
              "#fb9f3a"
             ],
             [
              0.8888888888888888,
              "#fdca26"
             ],
             [
              1,
              "#f0f921"
             ]
            ],
            "type": "histogram2d"
           }
          ],
          "histogram2dcontour": [
           {
            "colorbar": {
             "outlinewidth": 0,
             "ticks": ""
            },
            "colorscale": [
             [
              0,
              "#0d0887"
             ],
             [
              0.1111111111111111,
              "#46039f"
             ],
             [
              0.2222222222222222,
              "#7201a8"
             ],
             [
              0.3333333333333333,
              "#9c179e"
             ],
             [
              0.4444444444444444,
              "#bd3786"
             ],
             [
              0.5555555555555556,
              "#d8576b"
             ],
             [
              0.6666666666666666,
              "#ed7953"
             ],
             [
              0.7777777777777778,
              "#fb9f3a"
             ],
             [
              0.8888888888888888,
              "#fdca26"
             ],
             [
              1,
              "#f0f921"
             ]
            ],
            "type": "histogram2dcontour"
           }
          ],
          "mesh3d": [
           {
            "colorbar": {
             "outlinewidth": 0,
             "ticks": ""
            },
            "type": "mesh3d"
           }
          ],
          "parcoords": [
           {
            "line": {
             "colorbar": {
              "outlinewidth": 0,
              "ticks": ""
             }
            },
            "type": "parcoords"
           }
          ],
          "pie": [
           {
            "automargin": true,
            "type": "pie"
           }
          ],
          "scatter": [
           {
            "fillpattern": {
             "fillmode": "overlay",
             "size": 10,
             "solidity": 0.2
            },
            "type": "scatter"
           }
          ],
          "scatter3d": [
           {
            "line": {
             "colorbar": {
              "outlinewidth": 0,
              "ticks": ""
             }
            },
            "marker": {
             "colorbar": {
              "outlinewidth": 0,
              "ticks": ""
             }
            },
            "type": "scatter3d"
           }
          ],
          "scattercarpet": [
           {
            "marker": {
             "colorbar": {
              "outlinewidth": 0,
              "ticks": ""
             }
            },
            "type": "scattercarpet"
           }
          ],
          "scattergeo": [
           {
            "marker": {
             "colorbar": {
              "outlinewidth": 0,
              "ticks": ""
             }
            },
            "type": "scattergeo"
           }
          ],
          "scattergl": [
           {
            "marker": {
             "colorbar": {
              "outlinewidth": 0,
              "ticks": ""
             }
            },
            "type": "scattergl"
           }
          ],
          "scattermapbox": [
           {
            "marker": {
             "colorbar": {
              "outlinewidth": 0,
              "ticks": ""
             }
            },
            "type": "scattermapbox"
           }
          ],
          "scatterpolar": [
           {
            "marker": {
             "colorbar": {
              "outlinewidth": 0,
              "ticks": ""
             }
            },
            "type": "scatterpolar"
           }
          ],
          "scatterpolargl": [
           {
            "marker": {
             "colorbar": {
              "outlinewidth": 0,
              "ticks": ""
             }
            },
            "type": "scatterpolargl"
           }
          ],
          "scatterternary": [
           {
            "marker": {
             "colorbar": {
              "outlinewidth": 0,
              "ticks": ""
             }
            },
            "type": "scatterternary"
           }
          ],
          "surface": [
           {
            "colorbar": {
             "outlinewidth": 0,
             "ticks": ""
            },
            "colorscale": [
             [
              0,
              "#0d0887"
             ],
             [
              0.1111111111111111,
              "#46039f"
             ],
             [
              0.2222222222222222,
              "#7201a8"
             ],
             [
              0.3333333333333333,
              "#9c179e"
             ],
             [
              0.4444444444444444,
              "#bd3786"
             ],
             [
              0.5555555555555556,
              "#d8576b"
             ],
             [
              0.6666666666666666,
              "#ed7953"
             ],
             [
              0.7777777777777778,
              "#fb9f3a"
             ],
             [
              0.8888888888888888,
              "#fdca26"
             ],
             [
              1,
              "#f0f921"
             ]
            ],
            "type": "surface"
           }
          ],
          "table": [
           {
            "cells": {
             "fill": {
              "color": "#EBF0F8"
             },
             "line": {
              "color": "white"
             }
            },
            "header": {
             "fill": {
              "color": "#C8D4E3"
             },
             "line": {
              "color": "white"
             }
            },
            "type": "table"
           }
          ]
         },
         "layout": {
          "annotationdefaults": {
           "arrowcolor": "#2a3f5f",
           "arrowhead": 0,
           "arrowwidth": 1
          },
          "autotypenumbers": "strict",
          "coloraxis": {
           "colorbar": {
            "outlinewidth": 0,
            "ticks": ""
           }
          },
          "colorscale": {
           "diverging": [
            [
             0,
             "#8e0152"
            ],
            [
             0.1,
             "#c51b7d"
            ],
            [
             0.2,
             "#de77ae"
            ],
            [
             0.3,
             "#f1b6da"
            ],
            [
             0.4,
             "#fde0ef"
            ],
            [
             0.5,
             "#f7f7f7"
            ],
            [
             0.6,
             "#e6f5d0"
            ],
            [
             0.7,
             "#b8e186"
            ],
            [
             0.8,
             "#7fbc41"
            ],
            [
             0.9,
             "#4d9221"
            ],
            [
             1,
             "#276419"
            ]
           ],
           "sequential": [
            [
             0,
             "#0d0887"
            ],
            [
             0.1111111111111111,
             "#46039f"
            ],
            [
             0.2222222222222222,
             "#7201a8"
            ],
            [
             0.3333333333333333,
             "#9c179e"
            ],
            [
             0.4444444444444444,
             "#bd3786"
            ],
            [
             0.5555555555555556,
             "#d8576b"
            ],
            [
             0.6666666666666666,
             "#ed7953"
            ],
            [
             0.7777777777777778,
             "#fb9f3a"
            ],
            [
             0.8888888888888888,
             "#fdca26"
            ],
            [
             1,
             "#f0f921"
            ]
           ],
           "sequentialminus": [
            [
             0,
             "#0d0887"
            ],
            [
             0.1111111111111111,
             "#46039f"
            ],
            [
             0.2222222222222222,
             "#7201a8"
            ],
            [
             0.3333333333333333,
             "#9c179e"
            ],
            [
             0.4444444444444444,
             "#bd3786"
            ],
            [
             0.5555555555555556,
             "#d8576b"
            ],
            [
             0.6666666666666666,
             "#ed7953"
            ],
            [
             0.7777777777777778,
             "#fb9f3a"
            ],
            [
             0.8888888888888888,
             "#fdca26"
            ],
            [
             1,
             "#f0f921"
            ]
           ]
          },
          "colorway": [
           "#636efa",
           "#EF553B",
           "#00cc96",
           "#ab63fa",
           "#FFA15A",
           "#19d3f3",
           "#FF6692",
           "#B6E880",
           "#FF97FF",
           "#FECB52"
          ],
          "font": {
           "color": "#2a3f5f"
          },
          "geo": {
           "bgcolor": "white",
           "lakecolor": "white",
           "landcolor": "#E5ECF6",
           "showlakes": true,
           "showland": true,
           "subunitcolor": "white"
          },
          "hoverlabel": {
           "align": "left"
          },
          "hovermode": "closest",
          "mapbox": {
           "style": "light"
          },
          "paper_bgcolor": "white",
          "plot_bgcolor": "#E5ECF6",
          "polar": {
           "angularaxis": {
            "gridcolor": "white",
            "linecolor": "white",
            "ticks": ""
           },
           "bgcolor": "#E5ECF6",
           "radialaxis": {
            "gridcolor": "white",
            "linecolor": "white",
            "ticks": ""
           }
          },
          "scene": {
           "xaxis": {
            "backgroundcolor": "#E5ECF6",
            "gridcolor": "white",
            "gridwidth": 2,
            "linecolor": "white",
            "showbackground": true,
            "ticks": "",
            "zerolinecolor": "white"
           },
           "yaxis": {
            "backgroundcolor": "#E5ECF6",
            "gridcolor": "white",
            "gridwidth": 2,
            "linecolor": "white",
            "showbackground": true,
            "ticks": "",
            "zerolinecolor": "white"
           },
           "zaxis": {
            "backgroundcolor": "#E5ECF6",
            "gridcolor": "white",
            "gridwidth": 2,
            "linecolor": "white",
            "showbackground": true,
            "ticks": "",
            "zerolinecolor": "white"
           }
          },
          "shapedefaults": {
           "line": {
            "color": "#2a3f5f"
           }
          },
          "ternary": {
           "aaxis": {
            "gridcolor": "white",
            "linecolor": "white",
            "ticks": ""
           },
           "baxis": {
            "gridcolor": "white",
            "linecolor": "white",
            "ticks": ""
           },
           "bgcolor": "#E5ECF6",
           "caxis": {
            "gridcolor": "white",
            "linecolor": "white",
            "ticks": ""
           }
          },
          "title": {
           "x": 0.05
          },
          "xaxis": {
           "automargin": true,
           "gridcolor": "white",
           "linecolor": "white",
           "ticks": "",
           "title": {
            "standoff": 15
           },
           "zerolinecolor": "white",
           "zerolinewidth": 2
          },
          "yaxis": {
           "automargin": true,
           "gridcolor": "white",
           "linecolor": "white",
           "ticks": "",
           "title": {
            "standoff": 15
           },
           "zerolinecolor": "white",
           "zerolinewidth": 2
          }
         }
        }
       }
      },
      "image/png": "[encoded data removed]",
      "text/html": [
       "<div>                            <div id=\"329f41eb-0d31-40df-ae24-da652952fc61\" class=\"plotly-graph-div\" style=\"height:525px; width:100%;\"></div>            <script type=\"text/javascript\">                require([\"plotly\"], function(Plotly) {                    window.PLOTLYENV=window.PLOTLYENV || {};                                    if (document.getElementById(\"329f41eb-0d31-40df-ae24-da652952fc61\")) {                    Plotly.newPlot(                        \"329f41eb-0d31-40df-ae24-da652952fc61\",                        [{\"colorbar\":{\"len\":200,\"lenmode\":\"pixels\",\"title\":{\"text\":\"Country Colours\"}},\"colorscale\":[[0.0,\"rgb(150,0,90)\"],[0.125,\"rgb(0,0,200)\"],[0.25,\"rgb(0,25,255)\"],[0.375,\"rgb(0,152,255)\"],[0.5,\"rgb(44,255,150)\"],[0.625,\"rgb(151,255,0)\"],[0.75,\"rgb(255,234,0)\"],[0.875,\"rgb(255,111,0)\"],[1.0,\"rgb(255,0,0)\"]],\"locationmode\":\"country names\",\"locations\":[\"United States of America\",\"United Kingdom\",\"Canada\",\"Netherlands\",\"Australia\",\"Germany\",\"Ireland\",\"Sweden\",\"Switzerland\",\"France\",\"Brazil\",\"New Zealand\",\"Finland\",\"Denmark\",\"India\",\"Austria\",\"Afghanistan\",\"Pakistan\",\"Belgium\",\"Algeria\",\"Poland\",\"Other\",\"Romania\",\"Hungary\",\"Czech Republic\",\"Spain\",\"Ecuador\",\"Norway\",\"Bulgaria\",\"Israel\",\"Bangladesh\",\"Chile\",\"Guatemala\"],\"z\":[473,76,31,25,24,21,8,7,6,5,4,4,3,3,3,3,2,2,2,1,1,1,1,1,1,1,1,1,1,1,1,1,1],\"type\":\"choropleth\"}],                        {\"geo\":{\"scope\":\"world\"},\"template\":{\"data\":{\"barpolar\":[{\"marker\":{\"line\":{\"color\":\"#E5ECF6\",\"width\":0.5},\"pattern\":{\"fillmode\":\"overlay\",\"size\":10,\"solidity\":0.2}},\"type\":\"barpolar\"}],\"bar\":[{\"error_x\":{\"color\":\"#2a3f5f\"},\"error_y\":{\"color\":\"#2a3f5f\"},\"marker\":{\"line\":{\"color\":\"#E5ECF6\",\"width\":0.5},\"pattern\":{\"fillmode\":\"overlay\",\"size\":10,\"solidity\":0.2}},\"type\":\"bar\"}],\"carpet\":[{\"aaxis\":{\"endlinecolor\":\"#2a3f5f\",\"gridcolor\":\"white\",\"linecolor\":\"white\",\"minorgridcolor\":\"white\",\"startlinecolor\":\"#2a3f5f\"},\"baxis\":{\"endlinecolor\":\"#2a3f5f\",\"gridcolor\":\"white\",\"linecolor\":\"white\",\"minorgridcolor\":\"white\",\"startlinecolor\":\"#2a3f5f\"},\"type\":\"carpet\"}],\"choropleth\":[{\"colorbar\":{\"outlinewidth\":0,\"ticks\":\"\"},\"type\":\"choropleth\"}],\"contourcarpet\":[{\"colorbar\":{\"outlinewidth\":0,\"ticks\":\"\"},\"type\":\"contourcarpet\"}],\"contour\":[{\"colorbar\":{\"outlinewidth\":0,\"ticks\":\"\"},\"colorscale\":[[0.0,\"#0d0887\"],[0.1111111111111111,\"#46039f\"],[0.2222222222222222,\"#7201a8\"],[0.3333333333333333,\"#9c179e\"],[0.4444444444444444,\"#bd3786\"],[0.5555555555555556,\"#d8576b\"],[0.6666666666666666,\"#ed7953\"],[0.7777777777777778,\"#fb9f3a\"],[0.8888888888888888,\"#fdca26\"],[1.0,\"#f0f921\"]],\"type\":\"contour\"}],\"heatmapgl\":[{\"colorbar\":{\"outlinewidth\":0,\"ticks\":\"\"},\"colorscale\":[[0.0,\"#0d0887\"],[0.1111111111111111,\"#46039f\"],[0.2222222222222222,\"#7201a8\"],[0.3333333333333333,\"#9c179e\"],[0.4444444444444444,\"#bd3786\"],[0.5555555555555556,\"#d8576b\"],[0.6666666666666666,\"#ed7953\"],[0.7777777777777778,\"#fb9f3a\"],[0.8888888888888888,\"#fdca26\"],[1.0,\"#f0f921\"]],\"type\":\"heatmapgl\"}],\"heatmap\":[{\"colorbar\":{\"outlinewidth\":0,\"ticks\":\"\"},\"colorscale\":[[0.0,\"#0d0887\"],[0.1111111111111111,\"#46039f\"],[0.2222222222222222,\"#7201a8\"],[0.3333333333333333,\"#9c179e\"],[0.4444444444444444,\"#bd3786\"],[0.5555555555555556,\"#d8576b\"],[0.6666666666666666,\"#ed7953\"],[0.7777777777777778,\"#fb9f3a\"],[0.8888888888888888,\"#fdca26\"],[1.0,\"#f0f921\"]],\"type\":\"heatmap\"}],\"histogram2dcontour\":[{\"colorbar\":{\"outlinewidth\":0,\"ticks\":\"\"},\"colorscale\":[[0.0,\"#0d0887\"],[0.1111111111111111,\"#46039f\"],[0.2222222222222222,\"#7201a8\"],[0.3333333333333333,\"#9c179e\"],[0.4444444444444444,\"#bd3786\"],[0.5555555555555556,\"#d8576b\"],[0.6666666666666666,\"#ed7953\"],[0.7777777777777778,\"#fb9f3a\"],[0.8888888888888888,\"#fdca26\"],[1.0,\"#f0f921\"]],\"type\":\"histogram2dcontour\"}],\"histogram2d\":[{\"colorbar\":{\"outlinewidth\":0,\"ticks\":\"\"},\"colorscale\":[[0.0,\"#0d0887\"],[0.1111111111111111,\"#46039f\"],[0.2222222222222222,\"#7201a8\"],[0.3333333333333333,\"#9c179e\"],[0.4444444444444444,\"#bd3786\"],[0.5555555555555556,\"#d8576b\"],[0.6666666666666666,\"#ed7953\"],[0.7777777777777778,\"#fb9f3a\"],[0.8888888888888888,\"#fdca26\"],[1.0,\"#f0f921\"]],\"type\":\"histogram2d\"}],\"histogram\":[{\"marker\":{\"pattern\":{\"fillmode\":\"overlay\",\"size\":10,\"solidity\":0.2}},\"type\":\"histogram\"}],\"mesh3d\":[{\"colorbar\":{\"outlinewidth\":0,\"ticks\":\"\"},\"type\":\"mesh3d\"}],\"parcoords\":[{\"line\":{\"colorbar\":{\"outlinewidth\":0,\"ticks\":\"\"}},\"type\":\"parcoords\"}],\"pie\":[{\"automargin\":true,\"type\":\"pie\"}],\"scatter3d\":[{\"line\":{\"colorbar\":{\"outlinewidth\":0,\"ticks\":\"\"}},\"marker\":{\"colorbar\":{\"outlinewidth\":0,\"ticks\":\"\"}},\"type\":\"scatter3d\"}],\"scattercarpet\":[{\"marker\":{\"colorbar\":{\"outlinewidth\":0,\"ticks\":\"\"}},\"type\":\"scattercarpet\"}],\"scattergeo\":[{\"marker\":{\"colorbar\":{\"outlinewidth\":0,\"ticks\":\"\"}},\"type\":\"scattergeo\"}],\"scattergl\":[{\"marker\":{\"colorbar\":{\"outlinewidth\":0,\"ticks\":\"\"}},\"type\":\"scattergl\"}],\"scattermapbox\":[{\"marker\":{\"colorbar\":{\"outlinewidth\":0,\"ticks\":\"\"}},\"type\":\"scattermapbox\"}],\"scatterpolargl\":[{\"marker\":{\"colorbar\":{\"outlinewidth\":0,\"ticks\":\"\"}},\"type\":\"scatterpolargl\"}],\"scatterpolar\":[{\"marker\":{\"colorbar\":{\"outlinewidth\":0,\"ticks\":\"\"}},\"type\":\"scatterpolar\"}],\"scatter\":[{\"fillpattern\":{\"fillmode\":\"overlay\",\"size\":10,\"solidity\":0.2},\"type\":\"scatter\"}],\"scatterternary\":[{\"marker\":{\"colorbar\":{\"outlinewidth\":0,\"ticks\":\"\"}},\"type\":\"scatterternary\"}],\"surface\":[{\"colorbar\":{\"outlinewidth\":0,\"ticks\":\"\"},\"colorscale\":[[0.0,\"#0d0887\"],[0.1111111111111111,\"#46039f\"],[0.2222222222222222,\"#7201a8\"],[0.3333333333333333,\"#9c179e\"],[0.4444444444444444,\"#bd3786\"],[0.5555555555555556,\"#d8576b\"],[0.6666666666666666,\"#ed7953\"],[0.7777777777777778,\"#fb9f3a\"],[0.8888888888888888,\"#fdca26\"],[1.0,\"#f0f921\"]],\"type\":\"surface\"}],\"table\":[{\"cells\":{\"fill\":{\"color\":\"#EBF0F8\"},\"line\":{\"color\":\"white\"}},\"header\":{\"fill\":{\"color\":\"#C8D4E3\"},\"line\":{\"color\":\"white\"}},\"type\":\"table\"}]},\"layout\":{\"annotationdefaults\":{\"arrowcolor\":\"#2a3f5f\",\"arrowhead\":0,\"arrowwidth\":1},\"autotypenumbers\":\"strict\",\"coloraxis\":{\"colorbar\":{\"outlinewidth\":0,\"ticks\":\"\"}},\"colorscale\":{\"diverging\":[[0,\"#8e0152\"],[0.1,\"#c51b7d\"],[0.2,\"#de77ae\"],[0.3,\"#f1b6da\"],[0.4,\"#fde0ef\"],[0.5,\"#f7f7f7\"],[0.6,\"#e6f5d0\"],[0.7,\"#b8e186\"],[0.8,\"#7fbc41\"],[0.9,\"#4d9221\"],[1,\"#276419\"]],\"sequential\":[[0.0,\"#0d0887\"],[0.1111111111111111,\"#46039f\"],[0.2222222222222222,\"#7201a8\"],[0.3333333333333333,\"#9c179e\"],[0.4444444444444444,\"#bd3786\"],[0.5555555555555556,\"#d8576b\"],[0.6666666666666666,\"#ed7953\"],[0.7777777777777778,\"#fb9f3a\"],[0.8888888888888888,\"#fdca26\"],[1.0,\"#f0f921\"]],\"sequentialminus\":[[0.0,\"#0d0887\"],[0.1111111111111111,\"#46039f\"],[0.2222222222222222,\"#7201a8\"],[0.3333333333333333,\"#9c179e\"],[0.4444444444444444,\"#bd3786\"],[0.5555555555555556,\"#d8576b\"],[0.6666666666666666,\"#ed7953\"],[0.7777777777777778,\"#fb9f3a\"],[0.8888888888888888,\"#fdca26\"],[1.0,\"#f0f921\"]]},\"colorway\":[\"#636efa\",\"#EF553B\",\"#00cc96\",\"#ab63fa\",\"#FFA15A\",\"#19d3f3\",\"#FF6692\",\"#B6E880\",\"#FF97FF\",\"#FECB52\"],\"font\":{\"color\":\"#2a3f5f\"},\"geo\":{\"bgcolor\":\"white\",\"lakecolor\":\"white\",\"landcolor\":\"#E5ECF6\",\"showlakes\":true,\"showland\":true,\"subunitcolor\":\"white\"},\"hoverlabel\":{\"align\":\"left\"},\"hovermode\":\"closest\",\"mapbox\":{\"style\":\"light\"},\"paper_bgcolor\":\"white\",\"plot_bgcolor\":\"#E5ECF6\",\"polar\":{\"angularaxis\":{\"gridcolor\":\"white\",\"linecolor\":\"white\",\"ticks\":\"\"},\"bgcolor\":\"#E5ECF6\",\"radialaxis\":{\"gridcolor\":\"white\",\"linecolor\":\"white\",\"ticks\":\"\"}},\"scene\":{\"xaxis\":{\"backgroundcolor\":\"#E5ECF6\",\"gridcolor\":\"white\",\"gridwidth\":2,\"linecolor\":\"white\",\"showbackground\":true,\"ticks\":\"\",\"zerolinecolor\":\"white\"},\"yaxis\":{\"backgroundcolor\":\"#E5ECF6\",\"gridcolor\":\"white\",\"gridwidth\":2,\"linecolor\":\"white\",\"showbackground\":true,\"ticks\":\"\",\"zerolinecolor\":\"white\"},\"zaxis\":{\"backgroundcolor\":\"#E5ECF6\",\"gridcolor\":\"white\",\"gridwidth\":2,\"linecolor\":\"white\",\"showbackground\":true,\"ticks\":\"\",\"zerolinecolor\":\"white\"}},\"shapedefaults\":{\"line\":{\"color\":\"#2a3f5f\"}},\"ternary\":{\"aaxis\":{\"gridcolor\":\"white\",\"linecolor\":\"white\",\"ticks\":\"\"},\"baxis\":{\"gridcolor\":\"white\",\"linecolor\":\"white\",\"ticks\":\"\"},\"bgcolor\":\"#E5ECF6\",\"caxis\":{\"gridcolor\":\"white\",\"linecolor\":\"white\",\"ticks\":\"\"}},\"title\":{\"x\":0.05},\"xaxis\":{\"automargin\":true,\"gridcolor\":\"white\",\"linecolor\":\"white\",\"ticks\":\"\",\"title\":{\"standoff\":15},\"zerolinecolor\":\"white\",\"zerolinewidth\":2},\"yaxis\":{\"automargin\":true,\"gridcolor\":\"white\",\"linecolor\":\"white\",\"ticks\":\"\",\"title\":{\"standoff\":15},\"zerolinecolor\":\"white\",\"zerolinewidth\":2}}}},                        {\"responsive\": true}                    ).then(function(){\n",
       "                            \n",
       "var gd = document.getElementById('329f41eb-0d31-40df-ae24-da652952fc61');\n",
       "var x = new MutationObserver(function (mutations, observer) {{\n",
       "        var display = window.getComputedStyle(gd).display;\n",
       "        if (!display || display === 'none') {{\n",
       "            console.log([gd, 'removed!']);\n",
       "            Plotly.purge(gd);\n",
       "            observer.disconnect();\n",
       "        }}\n",
       "}});\n",
       "\n",
       "// Listen for the removal of the full notebook cells\n",
       "var notebookContainer = gd.closest('#notebook-container');\n",
       "if (notebookContainer) {{\n",
       "    x.observe(notebookContainer, {childList: true});\n",
       "}}\n",
       "\n",
       "// Listen for the clearing of the current output cell\n",
       "var outputEl = gd.closest('.output');\n",
       "if (outputEl) {{\n",
       "    x.observe(outputEl, {childList: true});\n",
       "}}\n",
       "\n",
       "                        })                };                });            </script>        </div>"
      ]
     },
     "metadata": {},
     "output_type": "display_data"
    }
   ],
   "source": [
    "data =dict( type = 'choropleth',\n",
    "            locations = list(df_eda[df_eda.diagnosed_mental_health_condition=='Yes']['country'].value_counts().index),\n",
    "            locationmode = 'country names',\n",
    "            colorscale= 'Rainbow',\n",
    "            z=list(df_eda[df_eda.diagnosed_mental_health_condition=='Yes']['country'].value_counts()),\n",
    "            colorbar = {'title':'Country Colours', 'len':200,'lenmode':'pixels' })\n",
    "layout = dict(geo = {'scope':'world'})\n",
    "col_map=gobj.Figure(data = [data],layout = layout)\n",
    "iplot(col_map)"
   ]
  },
  {
   "cell_type": "markdown",
   "id": "3792a13f-d377-4382-9a15-6fbfda7d492d",
   "metadata": {},
   "source": [
    "Its clear from the map, USA tops the list with whopping 473 cases !!!"
   ]
  },
  {
   "cell_type": "markdown",
   "id": "e4d40148-c807-431b-b089-02308005c2c9",
   "metadata": {},
   "source": [
    "Answering the question : Does the tech companies take mental health seriously than other non tech companies?"
   ]
  },
  {
   "cell_type": "code",
   "execution_count": 74,
   "id": "845a97de-b718-45c3-953e-a1d6066181dd",
   "metadata": {},
   "outputs": [
    {
     "data": {
      "text/plain": [
       "([<matplotlib.patches.Wedge at 0x1c6f038fb90>,\n",
       "  <matplotlib.patches.Wedge at 0x1c6f060bfd0>,\n",
       "  <matplotlib.patches.Wedge at 0x1c6f0619f90>],\n",
       " [Text(-0.44059807728808054, 1.0079054193177288, 'No'),\n",
       "  Text(0.1506324301763201, -1.0896374952153474, 'Yes'),\n",
       "  Text(1.058745387606376, -0.2984262123578033, \"I don't know\")],\n",
       " [Text(-0.24032622397531664, 0.5497665923551248, '63.117874%'),\n",
       "  Text(0.08216314373253823, -0.5943477246629167, '28.136882%'),\n",
       "  Text(0.5774974841489323, -0.16277793401334723, '8.745247%')])"
      ]
     },
     "execution_count": 74,
     "metadata": {},
     "output_type": "execute_result"
    },
    {
     "data": {
      "image/png": "[encoded data removed]",
      "text/plain": [
       "<Figure size 640x480 with 2 Axes>"
      ]
     },
     "metadata": {},
     "output_type": "display_data"
    }
   ],
   "source": [
    "import matplotlib.pyplot as plt\n",
    "plt.subplot(1,2,1)\n",
    "plt.title(\"Tech Company\")\n",
    "plt.pie(df_eda[df_eda.tech_company==1]['employer_discussed_mental_health '].value_counts(),\n",
    "       autopct='%1f%%',radius=1, \n",
    "       labels=df_eda[df_eda.tech_company==1]['employer_discussed_mental_health '].value_counts().index)\n",
    "\n",
    "plt.subplot(1,2,2)\n",
    "plt.title(\"Not tech companies\")\n",
    "plt.pie(df_eda[df_eda.tech_company==0]['employer_discussed_mental_health '].value_counts(),\n",
    "       autopct='%1f%%',radius=1, \n",
    "       labels=df_eda[df_eda.tech_company==1]['employer_discussed_mental_health '].value_counts().index)"
   ]
  },
  {
   "cell_type": "markdown",
   "id": "d5f5640c-b414-4151-ac3c-c377c164389d",
   "metadata": {},
   "source": [
    "Clearly ,as it seems tech companies are less concerned about mental health than the non-tech companies which is alarming signal!!"
   ]
  },
  {
   "cell_type": "code",
   "execution_count": null,
   "id": "17cd3c8d-78a5-4fd8-8453-409dc9aa56a1",
   "metadata": {},
   "outputs": [],
   "source": [
    "Answering the question: Which kind of discorder occur most?"
   ]
  },
  {
   "cell_type": "code",
   "execution_count": 75,
   "id": "92eca663-4805-4944-b887-49a3f7e53bd8",
   "metadata": {},
   "outputs": [
    {
     "data": {
      "text/plain": [
       "<Axes: >"
      ]
     },
     "execution_count": 75,
     "metadata": {},
     "output_type": "execute_result"
    },
    {
     "data": {
      "image/png": "[encoded data removed]",
      "text/plain": [
       "<Figure size 1000x1000 with 1 Axes>"
      ]
     },
     "metadata": {},
     "output_type": "display_data"
    }
   ],
   "source": [
    "##B.10\n",
    "disorder_type=pd.DataFrame(\n",
    "    df_eda[df_eda.type_of_disorder.isnull() != True]['type_of_disorder'].str.split(\"|\").tolist()).stack()\n",
    "plt.figure(figsize=(10,10))\n",
    "sns.barplot(x=disorder_type.value_counts()[0:10],y=disorder_type.value_counts().index[0:10])"
   ]
  },
  {
   "cell_type": "markdown",
   "id": "1d6343b6-cee2-4c66-af23-aa4193ae2b51",
   "metadata": {},
   "source": [
    "Its clear, the basic Anxiety disorder tops the list followed by hyperactivity disorder which is alarming and needs to be addressed moving forward!!"
   ]
  }
 ],
 "metadata": {
  "kernelspec": {
   "display_name": "Python 3 (ipykernel)",
   "language": "python",
   "name": "python3"
  },
  "language_info": {
   "codemirror_mode": {
    "name": "ipython",
    "version": 3
   },
   "file_extension": ".py",
   "mimetype": "text/x-python",
   "name": "python",
   "nbconvert_exporter": "python",
   "pygments_lexer": "ipython3",
   "version": "3.11.0"
  }
 },
 "nbformat": 4,
 "nbformat_minor": 5
}
