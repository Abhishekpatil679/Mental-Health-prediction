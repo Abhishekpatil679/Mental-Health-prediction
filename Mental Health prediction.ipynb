{
 "cells": [
  {
   "cell_type": "code",
   "execution_count": 18,
   "id": "acbd463c-0a3f-4773-837a-e82154a3fc6f",
   "metadata": {},
   "outputs": [],
   "source": [
    "import pandas as pd\n",
    "import numpy as np\n",
    "import matplotlib.pyplot as plt\n",
    "import seaborn as sns\n"
   ]
  },
  {
   "cell_type": "code",
   "execution_count": 19,
   "id": "a94916af-4ff1-4760-b44a-a11b2e850394",
   "metadata": {},
   "outputs": [],
   "source": [
    "df = pd.read_csv('C:/Users/styli/downloads/Mental Health prediction/Mental Health Data.csv')"
   ]
  },
  {
   "cell_type": "code",
   "execution_count": 20,
   "id": "e7efe508-61a9-4d77-9ab2-2941ce97ca57",
   "metadata": {},
   "outputs": [
    {
     "name": "stdout",
     "output_type": "stream",
     "text": [
      "Number of remaining records: 1433\n"
     ]
    }
   ],
   "source": [
    "# Remove duplicates\n",
    "df.drop_duplicates(inplace=True)\n",
    "print(\"Number of remaining records:\", df.shape[0])"
   ]
  },
  {
   "cell_type": "code",
   "execution_count": 21,
   "id": "d89f1333-313e-4204-907a-ad87bf53bf6c",
   "metadata": {},
   "outputs": [],
   "source": [
    "## Rename the columns\n",
    "a=list(df.columns)\n",
    "b=['self_employed','no_of_employees','tech_company','role_IT','mental_healthcare_coverage',\n",
    "  'knowledge_about_mental_healthcare_options_workplace','employer_discussed_mental_health ',\n",
    "  'employer_offer_resources_to_learn_about_mental_health','medical_leave_from_work ',\n",
    "  'comfortable_discussing_with_coworkers','employer_take_mental_health_seriously',\n",
    "   'knowledge_of_local_online_resources ','productivity_affected_by_mental_health ',\n",
    "   'percentage_work_time_affected_mental_health','openess_of_family_friends',\n",
    "  'family_history_mental_illness','mental_health_disorder_past',\n",
    "   'currently_mental_health_disorder','diagnosed_mental_health_condition',\n",
    "   'type_of_disorder','treatment_from_professional',\n",
    "   'while_effective_treatment_mental_health_issue_interferes_work',\n",
    "  'while_not_effective_treatment_interferes_work ','age','gender','country','US state',\n",
    "  'country work ','US state work','role_in_company','work_remotely','']\n",
    "for i,j in zip(a,b):\n",
    "    df.rename(columns={i:j},inplace=True)"
   ]
  },
  {
   "cell_type": "code",
   "execution_count": 22,
   "id": "71d6d6a8-d6a4-439b-ab92-603bac53a530",
   "metadata": {},
   "outputs": [
    {
     "name": "stdout",
     "output_type": "stream",
     "text": [
      "Missing values per column:\n",
      "self_employed                                                       0\n",
      "no_of_employees                                                   287\n",
      "tech_company                                                      287\n",
      "role_IT                                                          1170\n",
      "mental_healthcare_coverage                                        287\n",
      "knowledge_about_mental_healthcare_options_workplace               420\n",
      "employer_discussed_mental_health                                  287\n",
      "employer_offer_resources_to_learn_about_mental_health             287\n",
      "medical_leave_from_work                                           287\n",
      "comfortable_discussing_with_coworkers                             287\n",
      "employer_take_mental_health_seriously                             287\n",
      "knowledge_of_local_online_resources                              1146\n",
      "productivity_affected_by_mental_health                           1146\n",
      "percentage_work_time_affected_mental_health                      1229\n",
      "openess_of_family_friends                                           0\n",
      "family_history_mental_illness                                       0\n",
      "mental_health_disorder_past                                         0\n",
      "currently_mental_health_disorder                                    0\n",
      "diagnosed_mental_health_condition                                   0\n",
      "type_of_disorder                                                  722\n",
      "treatment_from_professional                                         0\n",
      "while_effective_treatment_mental_health_issue_interferes_work       0\n",
      "while_not_effective_treatment_interferes_work                       0\n",
      "age                                                                 0\n",
      "gender                                                              3\n",
      "country                                                             0\n",
      "US state                                                          593\n",
      "country work                                                        0\n",
      "US state work                                                     582\n",
      "role_in_company                                                     0\n",
      "work_remotely                                                       0\n",
      "dtype: int64\n"
     ]
    }
   ],
   "source": [
    "# Check for missing values\n",
    "missing_values = df.isna().sum()\n",
    "print(\"Missing values per column:\")\n",
    "print(missing_values)"
   ]
  },
  {
   "cell_type": "code",
   "execution_count": 23,
   "id": "f6c4b5d1-de5a-4dd6-a8c1-c0c4736b4bab",
   "metadata": {},
   "outputs": [],
   "source": [
    "## copy the dataset in df1\n",
    "df1=df.copy()"
   ]
  },
  {
   "cell_type": "code",
   "execution_count": 24,
   "id": "4eff2fbf-0625-4a61-aac1-90ee2580e3af",
   "metadata": {},
   "outputs": [
    {
     "name": "stdout",
     "output_type": "stream",
     "text": [
      "Index(['self_employed', 'no_of_employees', 'tech_company', 'role_IT',\n",
      "       'mental_healthcare_coverage',\n",
      "       'knowledge_about_mental_healthcare_options_workplace',\n",
      "       'employer_discussed_mental_health ',\n",
      "       'employer_offer_resources_to_learn_about_mental_health',\n",
      "       'medical_leave_from_work ', 'comfortable_discussing_with_coworkers',\n",
      "       'employer_take_mental_health_seriously',\n",
      "       'knowledge_of_local_online_resources ',\n",
      "       'productivity_affected_by_mental_health ',\n",
      "       'percentage_work_time_affected_mental_health',\n",
      "       'openess_of_family_friends', 'family_history_mental_illness',\n",
      "       'mental_health_disorder_past', 'currently_mental_health_disorder',\n",
      "       'diagnosed_mental_health_condition', 'type_of_disorder',\n",
      "       'treatment_from_professional',\n",
      "       'while_effective_treatment_mental_health_issue_interferes_work',\n",
      "       'while_not_effective_treatment_interferes_work ', 'age', 'gender',\n",
      "       'country', 'US state', 'country work ', 'US state work',\n",
      "       'role_in_company', 'work_remotely'],\n",
      "      dtype='object')\n"
     ]
    }
   ],
   "source": [
    "print(df1.columns)"
   ]
  },
  {
   "cell_type": "code",
   "execution_count": 30,
   "id": "10d7b8ad-1716-4fb6-be04-ee945d80bd4a",
   "metadata": {},
   "outputs": [],
   "source": [
    "## Drop the unnecessary colums \n",
    "cols_to_drop = ['role_IT', 'knowledge_of_local_online_resources ', 'productivity_affected_by_mental_health ', \n",
    "                'percentage_work_time_affected_mental_health']\n",
    "df_red = df1.drop(cols_to_drop, axis=1)"
   ]
  },
  {
   "cell_type": "code",
   "execution_count": 39,
   "id": "1c85c2e2-a9a3-4221-8a7e-f20456e2c262",
   "metadata": {},
   "outputs": [
    {
     "name": "stdout",
     "output_type": "stream",
     "text": [
      "Index(['self_employed', 'no_of_employees', 'tech_company',\n",
      "       'mental_healthcare_coverage',\n",
      "       'knowledge_about_mental_healthcare_options_workplace',\n",
      "       'employer_discussed_mental_health ',\n",
      "       'employer_offer_resources_to_learn_about_mental_health',\n",
      "       'medical_leave_from_work ', 'comfortable_discussing_with_coworkers',\n",
      "       'employer_take_mental_health_seriously', 'openess_of_family_friends',\n",
      "       'family_history_mental_illness', 'mental_health_disorder_past',\n",
      "       'currently_mental_health_disorder', 'diagnosed_mental_health_condition',\n",
      "       'type_of_disorder', 'treatment_from_professional',\n",
      "       'while_effective_treatment_mental_health_issue_interferes_work',\n",
      "       'while_not_effective_treatment_interferes_work ', 'age', 'gender',\n",
      "       'country', 'US state', 'country work ', 'US state work',\n",
      "       'role_in_company', 'work_remotely'],\n",
      "      dtype='object')\n"
     ]
    }
   ],
   "source": [
    "print(df_red.columns)"
   ]
  },
  {
   "cell_type": "code",
   "execution_count": 43,
   "id": "f433b328-3050-4b2f-9f6a-44d63179de0f",
   "metadata": {},
   "outputs": [
    {
     "data": {
      "text/plain": [
       "array(['1 to 5', '6 to 25', '26-99', '100-500', '26-100', '500-1000',\n",
       "       'More than 1000', nan], dtype=object)"
      ]
     },
     "execution_count": 43,
     "metadata": {},
     "output_type": "execute_result"
    }
   ],
   "source": [
    "#Cleaning different columns:\n",
    " ## No of Employees column\n",
    "df_red.no_of_employees.unique()   \n"
   ]
  },
  {
   "cell_type": "code",
   "execution_count": 45,
   "id": "08c44fc6-0ecd-4212-91e5-b1443ea9dd86",
   "metadata": {},
   "outputs": [],
   "source": [
    "df_red.no_of_employees.replace(to_replace=['1 to 5', '6 to 25','More than 1000','26-99'],\n",
    "                                value=['1-5','6-25','>1000','26-100'],inplace=True)"
   ]
  },
  {
   "cell_type": "code",
   "execution_count": 46,
   "id": "8342c434-32f2-4325-9ade-d3943c8e8566",
   "metadata": {},
   "outputs": [
    {
     "data": {
      "text/plain": [
       "26-100      326\n",
       ">1000       256\n",
       "100-500     248\n",
       "6-25        176\n",
       "500-1000     80\n",
       "1-5          60\n",
       "Name: no_of_employees, dtype: int64"
      ]
     },
     "execution_count": 46,
     "metadata": {},
     "output_type": "execute_result"
    }
   ],
   "source": [
    "df_red.no_of_employees.value_counts()"
   ]
  },
  {
   "cell_type": "code",
   "execution_count": 47,
   "id": "00c6b594-d983-48f0-946e-e5cda7d1e9d5",
   "metadata": {},
   "outputs": [
    {
     "data": {
      "text/plain": [
       "array(['Yes', 'No', \"I don't know\", 'Not eligible for coverage / N/A',\n",
       "       nan], dtype=object)"
      ]
     },
     "execution_count": 47,
     "metadata": {},
     "output_type": "execute_result"
    }
   ],
   "source": [
    "## Cleaning Mental Health Care coverage column\n",
    "df_red.mental_healthcare_coverage.unique()"
   ]
  },
  {
   "cell_type": "code",
   "execution_count": 48,
   "id": "60dcc29c-fdbd-4ecf-9155-b6612e259ff3",
   "metadata": {},
   "outputs": [
    {
     "data": {
      "text/plain": [
       "array(['Yes', 'No', \"I don't know\", nan], dtype=object)"
      ]
     },
     "execution_count": 48,
     "metadata": {},
     "output_type": "execute_result"
    }
   ],
   "source": [
    "df_red.mental_healthcare_coverage.replace(to_replace=['Not eligible for coverage / N/A'],\n",
    "                                value='No',inplace=True)\n",
    "df_red.mental_healthcare_coverage.unique()"
   ]
  },
  {
   "cell_type": "code",
   "execution_count": 49,
   "id": "76148666-215a-4f99-ba33-a0457d3f3b8f",
   "metadata": {},
   "outputs": [
    {
     "data": {
      "text/plain": [
       "array(['Somewhat open', 'Very open', 'Somewhat not open', 'Neutral',\n",
       "       'Not applicable to me (I do not have a mental illness)',\n",
       "       'Not open at all'], dtype=object)"
      ]
     },
     "execution_count": 49,
     "metadata": {},
     "output_type": "execute_result"
    }
   ],
   "source": [
    "## Cleaning openess_of_family_friends column\n",
    "df_red.openess_of_family_friends.unique()"
   ]
  },
  {
   "cell_type": "code",
   "execution_count": 50,
   "id": "af836447-737e-4e43-bd71-fbc8edbf9025",
   "metadata": {},
   "outputs": [
    {
     "data": {
      "text/plain": [
       "array(['Somewhat open', 'Very open', 'Somewhat not open', 'Neutral',\n",
       "       \"I don't know\", 'Not open at all'], dtype=object)"
      ]
     },
     "execution_count": 50,
     "metadata": {},
     "output_type": "execute_result"
    }
   ],
   "source": [
    "df_red.openess_of_family_friends.replace(to_replace=['Not applicable to me (I do not have a mental illness)']\n",
    "                                          ,value=\"I don't know\",inplace=True)\n",
    "df_red.openess_of_family_friends.unique()"
   ]
  },
  {
   "cell_type": "code",
   "execution_count": 51,
   "id": "3b00ed97-06e1-457a-bc79-2caa96b6d430",
   "metadata": {},
   "outputs": [],
   "source": [
    "## Cleaning the age column remove outliers\n",
    "med_age = df_red[(df_red['age'] >= 18) | (df_red['age'] <= 75)]['age'].median()\n",
    "df_red['age'].replace(to_replace = df_red[(df_red['age'] < 18) | (df_red['age'] > 75)]['age'].tolist(),\n",
    "                          value = med_age, inplace = True)"
   ]
  },
  {
   "cell_type": "code",
   "execution_count": 52,
   "id": "a6a0e985-082a-45fd-90b4-a72afe4b5da8",
   "metadata": {},
   "outputs": [
    {
     "data": {
      "text/plain": [
       "array(['Male', 'male', 'F', 'Transitioned, M2F', 'Other/Transfeminine',\n",
       "       'M', 'female', 'm', 'Female', 'f', 'non-binary', 'woman', 'male ',\n",
       "       'Male ', 'Bigender', 'Genderfluid (born female)',\n",
       "       'male 9:1 female, roughly', 'Male (cis)', 'Other', 'Sex is male',\n",
       "       'genderqueer', 'Human', 'mail', 'Cis-woman',\n",
       "       'female-bodied; no feelings about gender', 'Transgender woman',\n",
       "       'Genderfluid', 'female ', 'Male/genderqueer', 'fem', 'Nonbinary',\n",
       "       ' Female', 'Female ', 'Genderqueer', nan, 'I identify as female.',\n",
       "       'fm', 'Cis female ', 'female/woman', 'Androgynous', 'man',\n",
       "       'nb masculine', 'Cisgender Female', 'Woman', 'Cis Male',\n",
       "       'Female or Multi-Gender Femme', 'Male.', 'Enby', 'Agender',\n",
       "       'Female (props for making this a freeform field, though)',\n",
       "       'cis man', 'Female assigned at birth ', 'Cis male', 'Man',\n",
       "       'none of your business', 'cis male', 'genderqueer woman', 'Queer',\n",
       "       'Dude', 'Male (trans, FtM)', 'cisdude', 'Genderflux demi-girl',\n",
       "       'Malr', 'mtf', 'Fluid',\n",
       "       \"I'm a man why didn't you make this a drop down question. You should of asked sex? And I would of answered yes please. Seriously how much text can this take? \",\n",
       "       'M|', 'human', 'Unicorn', 'AFAB', 'MALE'], dtype=object)"
      ]
     },
     "execution_count": 52,
     "metadata": {},
     "output_type": "execute_result"
    }
   ],
   "source": [
    "# Cleaning the gender column\n",
    "df_red.gender.unique()"
   ]
  },
  {
   "cell_type": "code",
   "execution_count": 53,
   "id": "f029f602-e10a-4d59-b999-0829f0c822a4",
   "metadata": {},
   "outputs": [],
   "source": [
    "df_red['gender'].replace(to_replace = ['Male', 'male', 'Male ', 'M', 'm',\n",
    "       'man', 'Cis male', 'Male.', 'male 9:1 female, roughly', 'Male (cis)', 'Man', 'Sex is male',\n",
    "       'cis male', 'Malr', 'Dude', \"I'm a man why didn't you make this a drop down question. You should of asked sex? And I would of answered yes please. Seriously how much text can this take? \",\n",
    "       'mail', 'M|', 'Male/genderqueer', 'male ',\n",
    "       'Cis Male', 'Male (trans, FtM)',\n",
    "       'cisdude', 'cis man', 'MALE'], value = 'male', inplace = True)\n",
    "df_red['gender'].replace(to_replace = ['Female', 'female', 'I identify as female.', 'female ',\n",
    "       'Female assigned at birth ', 'F', 'Woman', 'fm', 'f', 'Cis female ', 'Transitioned, M2F',\n",
    "       'Genderfluid (born female)', 'Female or Multi-Gender Femme', 'Female ', 'woman', 'female/woman',\n",
    "       'Cisgender Female', 'fem', 'Female (props for making this a freeform field, though)',\n",
    "       ' Female', 'Cis-woman', 'female-bodied; no feelings about gender',\n",
    "       'AFAB'], value = 'female', inplace = True)\n",
    "df_red['gender'].replace(to_replace = ['Bigender', 'non-binary', 'Other/Transfeminine',\n",
    "       'Androgynous', 'Other', 'nb masculine',\n",
    "       'none of your business', 'genderqueer', 'Human', 'Genderfluid',\n",
    "       'Enby', 'genderqueer woman', 'mtf', 'Queer', 'Agender', 'Fluid',\n",
    "       'Nonbinary', 'human', 'Unicorn', 'Genderqueer',\n",
    "       'Genderflux demi-girl', 'Transgender woman'], value = 'other', inplace = True)"
   ]
  },
  {
   "cell_type": "code",
   "execution_count": 54,
   "id": "e518835a-df4a-47b5-be12-cc851160836a",
   "metadata": {},
   "outputs": [
    {
     "data": {
      "text/plain": [
       "array(['male', 'female', 'other', nan], dtype=object)"
      ]
     },
     "execution_count": 54,
     "metadata": {},
     "output_type": "execute_result"
    }
   ],
   "source": [
    "df_red.gender.unique()"
   ]
  },
  {
   "cell_type": "code",
   "execution_count": 55,
   "id": "5a351699-a672-4f15-9a69-c95eaa94b04b",
   "metadata": {},
   "outputs": [],
   "source": [
    "## Cleaning the role_in_company\n",
    "tech_list = []\n",
    "tech_list.append(df_red[df_red['role_in_company'].str.contains('Back-end')]['role_in_company'].tolist())\n",
    "tech_list.append(df_red[df_red['role_in_company'].str.contains('Front-end')]['role_in_company'].tolist())\n",
    "tech_list.append(df_red[df_red['role_in_company'].str.contains('Dev')]['role_in_company'].tolist())\n",
    "tech_list.append(df_red[df_red['role_in_company'].str.contains('DevOps')]['role_in_company'].tolist())\n",
    "flat_list = [item for sublist in tech_list for item in sublist]\n",
    "flat_list = list(dict.fromkeys(flat_list))"
   ]
  },
  {
   "cell_type": "code",
   "execution_count": 58,
   "id": "b088f079-7adc-4a61-a639-bf8795a06e91",
   "metadata": {},
   "outputs": [],
   "source": [
    " #Replace tech role=1 and other=0 in a new tech role operation\n",
    "df_red['tech_role']=df_red['role_in_company']\n",
    "df_red['tech_role'].replace(to_replace=flat_list,value=1,inplace=True)\n",
    "remain_list=df_red['tech_role'].unique()[1:]\n",
    "df_red['tech_role'].replace(to_replace=remain_list,value=0,inplace=True)"
   ]
  },
  {
   "cell_type": "code",
   "execution_count": 59,
   "id": "3877db86-f3cc-4889-a656-d7c0596f02d0",
   "metadata": {},
   "outputs": [
    {
     "data": {
      "text/plain": [
       "1    1045\n",
       "0     388\n",
       "Name: tech_role, dtype: int64"
      ]
     },
     "execution_count": 59,
     "metadata": {},
     "output_type": "execute_result"
    }
   ],
   "source": [
    "df_red.tech_role.value_counts()"
   ]
  },
  {
   "cell_type": "code",
   "execution_count": 60,
   "id": "cddbccfa-958b-49b4-8a62-a81dd7e9db8d",
   "metadata": {},
   "outputs": [],
   "source": [
    "df_red=df_red.drop(['role_in_company'],axis=1)"
   ]
  },
  {
   "cell_type": "code",
   "execution_count": 61,
   "id": "1f3e7672-5fb8-42a8-859c-4345aa6b75c5",
   "metadata": {},
   "outputs": [],
   "source": [
    "#Handling Missing Values\n",
    "df_rej=pd.concat([df_red['type_of_disorder'],df_red['US state'],df_red['US state work']],axis=1)\n",
    "df_red=df_red.drop(['type_of_disorder','US state','US state work'],axis=1)"
   ]
  },
  {
   "cell_type": "code",
   "execution_count": 62,
   "id": "59f93b63-6216-47a9-802d-eb38999348aa",
   "metadata": {},
   "outputs": [],
   "source": [
    "import numpy as np\n",
    "import pandas as pd\n",
    "\n",
    "\n",
    "df_red_imputed = df_red.copy()\n",
    "\n",
    "# Iterate over each column\n",
    "for column in df_red_imputed.columns:\n",
    "    # Check if column has missing values represented as empty strings\n",
    "    if (df_red_imputed[column] == \"\").sum() > 0:\n",
    "        # Replace empty strings with NaN\n",
    "        df_red_imputed[column].replace(\"\", np.nan, inplace=True)\n",
    "    \n",
    "    # Calculate the most frequent value in the column\n",
    "    most_frequent_value = df_red_imputed[column].mode()[0]\n",
    "    # Fill missing values with the most frequent value\n",
    "    df_red_imputed[column].fillna(most_frequent_value, inplace=True)\n"
   ]
  },
  {
   "cell_type": "code",
   "execution_count": 64,
   "id": "33b82161-a9e2-4e33-b26d-0b05a2ce6a02",
   "metadata": {},
   "outputs": [
    {
     "name": "stdout",
     "output_type": "stream",
     "text": [
      "                                                      0\n",
      "self_employed                                         0\n",
      "no_of_employees                                       0\n",
      "tech_company                                          0\n",
      "mental_healthcare_coverage                            0\n",
      "knowledge_about_mental_healthcare_options_workp...    0\n",
      "employer_discussed_mental_health                      0\n",
      "employer_offer_resources_to_learn_about_mental_...    0\n",
      "medical_leave_from_work                               0\n",
      "comfortable_discussing_with_coworkers                 0\n",
      "employer_take_mental_health_seriously                 0\n",
      "openess_of_family_friends                             0\n",
      "family_history_mental_illness                         0\n",
      "mental_health_disorder_past                           0\n",
      "currently_mental_health_disorder                      0\n",
      "diagnosed_mental_health_condition                     0\n",
      "treatment_from_professional                           0\n",
      "while_effective_treatment_mental_health_issue_i...    0\n",
      "while_not_effective_treatment_interferes_work         0\n",
      "age                                                   0\n",
      "gender                                                0\n",
      "country                                               0\n",
      "country work                                          0\n",
      "work_remotely                                         0\n",
      "tech_role                                             0\n",
      "type_of_disorder                                    722\n",
      "US state                                            593\n",
      "US state work                                       582\n"
     ]
    }
   ],
   "source": [
    "# Concatenate the imputed DataFrame 'df_red_imputed' and 'df_rej'\n",
    "df_eda = pd.concat([df_red_imputed, df_rej], axis=1)\n",
    "\n",
    "# Calculate the number of missing values in each column of 'df_eda'\n",
    "missing_values_count = df_eda.isnull().sum().to_frame()\n",
    "\n",
    "print(missing_values_count)"
   ]
  },
  {
   "cell_type": "code",
   "execution_count": null,
   "id": "2bdfd0bb-af04-4ee2-a0b7-274db9b5ad94",
   "metadata": {},
   "outputs": [],
   "source": []
  }
 ],
 "metadata": {
  "kernelspec": {
   "display_name": "Python 3 (ipykernel)",
   "language": "python",
   "name": "python3"
  },
  "language_info": {
   "codemirror_mode": {
    "name": "ipython",
    "version": 3
   },
   "file_extension": ".py",
   "mimetype": "text/x-python",
   "name": "python",
   "nbconvert_exporter": "python",
   "pygments_lexer": "ipython3",
   "version": "3.11.0"
  }
 },
 "nbformat": 4,
 "nbformat_minor": 5
}
